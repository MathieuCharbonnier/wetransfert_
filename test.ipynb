{
 "cells": [
  {
   "cell_type": "code",
   "execution_count": 1,
   "id": "43078c84-d92c-48cc-b325-4fb280272c82",
   "metadata": {
    "execution": {
     "iopub.execute_input": "2024-05-21T13:10:37.322106Z",
     "iopub.status.busy": "2024-05-21T13:10:37.321399Z",
     "iopub.status.idle": "2024-05-21T13:10:37.380216Z",
     "shell.execute_reply": "2024-05-21T13:10:37.378242Z",
     "shell.execute_reply.started": "2024-05-21T13:10:37.322020Z"
    }
   },
   "outputs": [],
   "source": [
    "a = [\"2\", \"34365\", \"313\", \"0\", \"656\"]\n",
    "b = [\"2_c\", \"34365_b\", \"313_b\", \"0_c\", \"656_c\", \"0_ah\", \"11_z\", \"1_z\"]\n",
    "array = [1, 3, 5, 6, 2, 4, 2, 1]"
   ]
  },
  {
   "cell_type": "code",
   "execution_count": 8,
   "id": "6132e572-ae93-4224-851b-030744dd2a5f",
   "metadata": {
    "execution": {
     "iopub.execute_input": "2024-05-21T13:12:59.559066Z",
     "iopub.status.busy": "2024-05-21T13:12:59.558511Z",
     "iopub.status.idle": "2024-05-21T13:12:59.615716Z",
     "shell.execute_reply": "2024-05-21T13:12:59.610112Z",
     "shell.execute_reply.started": "2024-05-21T13:12:59.559024Z"
    }
   },
   "outputs": [
    {
     "data": {
      "text/plain": [
       "[34365, 656, 313, 2, 0]"
      ]
     },
     "execution_count": 8,
     "metadata": {},
     "output_type": "execute_result"
    }
   ],
   "source": [
    "sorted([int(element)for element in a], reverse=True)"
   ]
  },
  {
   "cell_type": "code",
   "execution_count": 12,
   "id": "4c0d67ef-6276-4e32-ada9-02f5621db1b7",
   "metadata": {
    "execution": {
     "iopub.execute_input": "2024-05-21T13:16:21.381132Z",
     "iopub.status.busy": "2024-05-21T13:16:21.380555Z",
     "iopub.status.idle": "2024-05-21T13:16:21.392459Z",
     "shell.execute_reply": "2024-05-21T13:16:21.390861Z",
     "shell.execute_reply.started": "2024-05-21T13:16:21.381089Z"
    }
   },
   "outputs": [],
   "source": [
    "other=[element.split('_',1) for element in b]"
   ]
  },
  {
   "cell_type": "code",
   "execution_count": 13,
   "id": "98be1e37-f65a-45eb-9efa-710e2edf1b96",
   "metadata": {
    "execution": {
     "iopub.execute_input": "2024-05-21T13:16:25.302437Z",
     "iopub.status.busy": "2024-05-21T13:16:25.301902Z",
     "iopub.status.idle": "2024-05-21T13:16:25.334397Z",
     "shell.execute_reply": "2024-05-21T13:16:25.331196Z",
     "shell.execute_reply.started": "2024-05-21T13:16:25.302395Z"
    }
   },
   "outputs": [
    {
     "data": {
      "text/plain": [
       "[['2', 'c'],\n",
       " ['34365', 'b'],\n",
       " ['313', 'b'],\n",
       " ['0', 'c'],\n",
       " ['656', 'c'],\n",
       " ['0', 'ah'],\n",
       " ['11', 'z'],\n",
       " ['1', 'z']]"
      ]
     },
     "execution_count": 13,
     "metadata": {},
     "output_type": "execute_result"
    }
   ],
   "source": [
    "other"
   ]
  },
  {
   "cell_type": "code",
   "execution_count": 17,
   "id": "880baa93-9eac-42da-8e61-93a9c5009b1d",
   "metadata": {
    "execution": {
     "iopub.execute_input": "2024-05-21T13:18:58.600260Z",
     "iopub.status.busy": "2024-05-21T13:18:58.599664Z",
     "iopub.status.idle": "2024-05-21T13:18:58.629304Z",
     "shell.execute_reply": "2024-05-21T13:18:58.621630Z",
     "shell.execute_reply.started": "2024-05-21T13:18:58.600218Z"
    }
   },
   "outputs": [
    {
     "data": {
      "text/plain": [
       "[[0, 'ah'],\n",
       " [0, 'c'],\n",
       " [1, 'z'],\n",
       " [2, 'c'],\n",
       " [11, 'z'],\n",
       " [313, 'b'],\n",
       " [656, 'c'],\n",
       " [34365, 'b']]"
      ]
     },
     "execution_count": 17,
     "metadata": {},
     "output_type": "execute_result"
    }
   ],
   "source": [
    "g=sorted([[int(elem[0]),elem[1]]for elem in other])\n",
    "g"
   ]
  },
  {
   "cell_type": "code",
   "execution_count": 24,
   "id": "f6453b01-c890-4fef-8b43-f59d6061c4a1",
   "metadata": {
    "execution": {
     "iopub.execute_input": "2024-05-21T13:37:28.884950Z",
     "iopub.status.busy": "2024-05-21T13:37:28.883973Z",
     "iopub.status.idle": "2024-05-21T13:37:28.901547Z",
     "shell.execute_reply": "2024-05-21T13:37:28.895473Z",
     "shell.execute_reply.started": "2024-05-21T13:37:28.884866Z"
    }
   },
   "outputs": [
    {
     "name": "stdout",
     "output_type": "stream",
     "text": [
      "the values are 1 5\n",
      "the values are 2 4\n",
      "the values are 4 2\n",
      "the values are 5 1\n"
     ]
    }
   ],
   "source": [
    "array = [1, 3, 5, 6, 2, 4, 2, 1]\n",
    "def find (array=array,target=6):\n",
    "    first=set() \n",
    "    for j in range(len(array)):\n",
    "         \n",
    "        if (target-array[j] in first or -(tar)in ):\n",
    "            print('the values are',target-array[j] , array[j])\n",
    "            \n",
    "        first.add(array[j])\n",
    "        \n",
    "find()"
   ]
  },
  {
   "cell_type": "code",
   "execution_count": null,
   "id": "36b3b629-3ade-4eb9-b0ba-244b69650e33",
   "metadata": {},
   "outputs": [],
   "source": []
  }
 ],
 "metadata": {
  "kernelspec": {
   "display_name": "Python 3 (ipykernel)",
   "language": "python",
   "name": "python3"
  },
  "language_info": {
   "codemirror_mode": {
    "name": "ipython",
    "version": 3
   },
   "file_extension": ".py",
   "mimetype": "text/x-python",
   "name": "python",
   "nbconvert_exporter": "python",
   "pygments_lexer": "ipython3",
   "version": "3.10.13"
  }
 },
 "nbformat": 4,
 "nbformat_minor": 5
}
